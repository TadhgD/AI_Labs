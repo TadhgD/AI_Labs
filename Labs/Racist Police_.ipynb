{
 "cells": [
  {
   "cell_type": "code",
   "execution_count": 2,
   "metadata": {},
   "outputs": [],
   "source": [
    "%load_ext autoreload\n",
    "%autoreload 2\n",
    "%matplotlib inline"
   ]
  },
  {
   "cell_type": "code",
   "execution_count": 3,
   "metadata": {},
   "outputs": [],
   "source": [
    "import pandas as pd\n",
    "import numpy as np\n",
    "import matplotlib.pyplot as plt"
   ]
  },
  {
   "cell_type": "code",
   "execution_count": 4,
   "metadata": {},
   "outputs": [],
   "source": [
    "df = pd.read_csv('CS4618Resources/datasets/dataset_stop_and_searchB.csv')"
   ]
  },
  {
   "cell_type": "code",
   "execution_count": 5,
   "metadata": {},
   "outputs": [
    {
     "data": {
      "text/html": [
       "<div>\n",
       "<style>\n",
       "    .dataframe thead tr:only-child th {\n",
       "        text-align: right;\n",
       "    }\n",
       "\n",
       "    .dataframe thead th {\n",
       "        text-align: left;\n",
       "    }\n",
       "\n",
       "    .dataframe tbody tr th {\n",
       "        vertical-align: top;\n",
       "    }\n",
       "</style>\n",
       "<table border=\"1\" class=\"dataframe\">\n",
       "  <thead>\n",
       "    <tr style=\"text-align: right;\">\n",
       "      <th></th>\n",
       "      <th>Gender</th>\n",
       "      <th>Age</th>\n",
       "      <th>Suspect-ethnicity</th>\n",
       "      <th>Officer-ethnicity</th>\n",
       "      <th>Object of search</th>\n",
       "      <th>Outcome</th>\n",
       "    </tr>\n",
       "  </thead>\n",
       "  <tbody>\n",
       "    <tr>\n",
       "      <th>count</th>\n",
       "      <td>10290</td>\n",
       "      <td>10169</td>\n",
       "      <td>9746</td>\n",
       "      <td>10165</td>\n",
       "      <td>10300</td>\n",
       "      <td>10354</td>\n",
       "    </tr>\n",
       "    <tr>\n",
       "      <th>unique</th>\n",
       "      <td>3</td>\n",
       "      <td>5</td>\n",
       "      <td>17</td>\n",
       "      <td>5</td>\n",
       "      <td>6</td>\n",
       "      <td>8</td>\n",
       "    </tr>\n",
       "    <tr>\n",
       "      <th>top</th>\n",
       "      <td>Male</td>\n",
       "      <td>18-24</td>\n",
       "      <td>White - White British (W1)</td>\n",
       "      <td>White</td>\n",
       "      <td>Controlled drugs</td>\n",
       "      <td>Nothing found - no further action</td>\n",
       "    </tr>\n",
       "    <tr>\n",
       "      <th>freq</th>\n",
       "      <td>9278</td>\n",
       "      <td>3915</td>\n",
       "      <td>5845</td>\n",
       "      <td>7022</td>\n",
       "      <td>7209</td>\n",
       "      <td>6590</td>\n",
       "    </tr>\n",
       "  </tbody>\n",
       "</table>\n",
       "</div>"
      ],
      "text/plain": [
       "       Gender    Age           Suspect-ethnicity Officer-ethnicity  \\\n",
       "count   10290  10169                        9746             10165   \n",
       "unique      3      5                          17                 5   \n",
       "top      Male  18-24  White - White British (W1)             White   \n",
       "freq     9278   3915                        5845              7022   \n",
       "\n",
       "        Object of search                            Outcome  \n",
       "count              10300                              10354  \n",
       "unique                 6                                  8  \n",
       "top     Controlled drugs  Nothing found - no further action  \n",
       "freq                7209                               6590  "
      ]
     },
     "execution_count": 5,
     "metadata": {},
     "output_type": "execute_result"
    }
   ],
   "source": [
    "df.describe()"
   ]
  },
  {
   "cell_type": "code",
   "execution_count": 6,
   "metadata": {},
   "outputs": [
    {
     "data": {
      "text/plain": [
       "(10354, 6)"
      ]
     },
     "execution_count": 6,
     "metadata": {},
     "output_type": "execute_result"
    }
   ],
   "source": [
    "df.shape"
   ]
  },
  {
   "cell_type": "code",
   "execution_count": 7,
   "metadata": {},
   "outputs": [
    {
     "data": {
      "text/plain": [
       "Index(['Gender', 'Age', 'Suspect-ethnicity', 'Officer-ethnicity',\n",
       "       'Object of search', 'Outcome'],\n",
       "      dtype='object')"
      ]
     },
     "execution_count": 7,
     "metadata": {},
     "output_type": "execute_result"
    }
   ],
   "source": [
    "df.columns"
   ]
  },
  {
   "cell_type": "code",
   "execution_count": 8,
   "metadata": {},
   "outputs": [
    {
     "data": {
      "text/plain": [
       "array(['Male', 'Female', nan, 'Other'], dtype=object)"
      ]
     },
     "execution_count": 8,
     "metadata": {},
     "output_type": "execute_result"
    }
   ],
   "source": [
    "df[\"Gender\"].unique()\n"
   ]
  },
  {
   "cell_type": "code",
   "execution_count": 9,
   "metadata": {},
   "outputs": [
    {
     "data": {
      "text/plain": [
       "array(['Controlled drugs', 'Offensive weapons', 'Stolen goods',\n",
       "       'Article for use in theft', 'Articles for use in criminal damage',\n",
       "       'Firearms', nan], dtype=object)"
      ]
     },
     "execution_count": 9,
     "metadata": {},
     "output_type": "execute_result"
    }
   ],
   "source": [
    "df[\"Object of search\"].unique()"
   ]
  },
  {
   "cell_type": "code",
   "execution_count": 10,
   "metadata": {},
   "outputs": [
    {
     "data": {
      "text/plain": [
       "array(['White - White British (W1)',\n",
       "       'Black or Black British - Caribbean (B1)', 'Not Stated (NS)',\n",
       "       'Asian or Asian British - Indian (A1)',\n",
       "       'White - Any other White ethnic background (W9)', nan,\n",
       "       'Black or Black British - African (B2)',\n",
       "       'Mixed - White and Asian (M3)',\n",
       "       'Mixed - Any other Mixed ethnic background (M9)',\n",
       "       'Asian or Asian British - Pakistani (A2)',\n",
       "       'Mixed - White and Black Caribbean (M1)',\n",
       "       'Chinese or other ethnic group - Chinese (O1)',\n",
       "       'Black or Black British - Any other Black ethnic background (B9)',\n",
       "       'Asian or Asian British - Any other Asian ethnic background (A9)',\n",
       "       'Mixed - White and Black African (M2)',\n",
       "       'Chinese or other ethnic group - Any other ethnic group (O9)',\n",
       "       'White - White Irish (W2)',\n",
       "       'Asian or Asian British - Bangladeshi (A3)'], dtype=object)"
      ]
     },
     "execution_count": 10,
     "metadata": {},
     "output_type": "execute_result"
    }
   ],
   "source": [
    "df[\"Suspect-ethnicity\"].unique()"
   ]
  },
  {
   "cell_type": "code",
   "execution_count": 11,
   "metadata": {},
   "outputs": [
    {
     "data": {
      "text/plain": [
       "array(['White', 'Black', 'Asian', nan, 'Other', 'Mixed'], dtype=object)"
      ]
     },
     "execution_count": 11,
     "metadata": {},
     "output_type": "execute_result"
    }
   ],
   "source": [
    "df[\"Officer-ethnicity\"].unique()"
   ]
  },
  {
   "cell_type": "markdown",
   "metadata": {},
   "source": [
    "Clean up the data (remove NaNs) and plot a histogram of arrests based on suspect ethnicity\n"
   ]
  },
  {
   "cell_type": "code",
   "execution_count": 12,
   "metadata": {},
   "outputs": [
    {
     "name": "stdout",
     "output_type": "stream",
     "text": [
      "(9746, 6)\n"
     ]
    }
   ],
   "source": [
    "df.dropna(subset=[\"Suspect-ethnicity\"], inplace=True)\n",
    "df.reset_index(drop=True, inplace=True)\n",
    "# Check the examples with missing values were removed\n",
    "print(df.shape)\n"
   ]
  },
  {
   "cell_type": "code",
   "execution_count": 19,
   "metadata": {},
   "outputs": [],
   "source": [
    "W1_stoppages = df[\"Suspect-ethnicity\"] == 'White - White British (W1)'\n",
    "B1_stoppages = df[\"Suspect-ethnicity\"] == 'Black or Black British - Caribbean (B1)'\n",
    "NS_stoppages = df[\"Suspect-ethnicity\"] == 'Not Stated (NS)'\n"
   ]
  },
  {
   "cell_type": "code",
   "execution_count": 22,
   "metadata": {},
   "outputs": [
    {
     "name": "stdout",
     "output_type": "stream",
     "text": [
      "Proportion of Whie British stopped:  0.599733223887\n",
      "Proportion of Black / Black British (Caribbean) stopped:  0.0395033860045\n"
     ]
    }
   ],
   "source": [
    "print(\"Proportion of Whie British stopped: \", (W1_stoppages.sum() / df[\"Suspect-ethnicity\"].count()))\n",
    "print(\"Proportion of Black / Black British (Caribbean) stopped: \", (B1_stoppages.sum() / df[\"Suspect-ethnicity\"].count()))"
   ]
  },
  {
   "cell_type": "markdown",
   "metadata": {},
   "source": [
    "<h1>Answer : </h1>\n",
    "\n",
    "We need some outside information, namely the proportion of non-white nationals in the UK or in the Thames Valley region. This will help us determine what proportion of white people should be stopped, and what proportion of non-whites should be stopped.\n",
    "\n",
    "Remember to not include those whose nationality was not stated.\n",
    "\n",
    "random note : &, |, ~ are AND, OR, NOT"
   ]
  },
  {
   "cell_type": "code",
   "execution_count": null,
   "metadata": {},
   "outputs": [],
   "source": []
  }
 ],
 "metadata": {
  "kernelspec": {
   "display_name": "Python 3",
   "language": "python",
   "name": "python3"
  },
  "language_info": {
   "codemirror_mode": {
    "name": "ipython",
    "version": 3
   },
   "file_extension": ".py",
   "mimetype": "text/x-python",
   "name": "python",
   "nbconvert_exporter": "python",
   "pygments_lexer": "ipython3",
   "version": "3.5.2"
  }
 },
 "nbformat": 4,
 "nbformat_minor": 2
}
